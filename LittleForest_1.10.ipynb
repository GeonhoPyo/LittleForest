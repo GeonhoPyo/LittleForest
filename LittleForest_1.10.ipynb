{
 "cells": [
  {
   "cell_type": "code",
   "execution_count": 1,
   "metadata": {},
   "outputs": [
    {
     "name": "stderr",
     "output_type": "stream",
     "text": [
      "Using TensorFlow backend.\n"
     ]
    }
   ],
   "source": [
    "import os\n",
    "import time\n",
    "import shutil\n",
    "import tarfile\n",
    "import pathlib\n",
    "\n",
    "import numpy as np\n",
    "import matplotlib.pyplot as plt\n",
    "%matplotlib inline\n",
    "from IPython.display import clear_output\n",
    "\n",
    "import tensorflow as tf\n",
    "\n",
    "from tensorflow import keras\n",
    "from tensorflow.keras import layers\n",
    "import pandas as pd\n",
    "import seaborn as sns\n",
    "import xgboost as xgb \n",
    "from sklearn.model_selection import KFold\n",
    "import warnings\n",
    "warnings.filterwarnings(action='ignore')\n",
    "import seaborn as sns\n",
    "import matplotlib.pyplot as plt\n",
    "import scipy.stats as st\n",
    "from scipy.stats import skew\n",
    "from sklearn.linear_model import LinearRegression\n",
    "from sklearn.metrics import mean_squared_error, r2_score, mean_squared_log_error, r2_score\n",
    "from sklearn.linear_model import Lasso, LassoCV, MultiTaskLassoCV\n",
    "from sklearn.model_selection import GridSearchCV\n",
    "from sklearn.linear_model import Ridge\n",
    "from sklearn.ensemble import RandomForestRegressor\n",
    "from sklearn import ensemble\n",
    "from sklearn.ensemble import GradientBoostingRegressor\n",
    "from sklearn.multioutput import MultiOutputRegressor\n",
    "from xgboost import XGBRegressor\n",
    "from sklearn.preprocessing import StandardScaler\n",
    "from sklearn.preprocessing import MinMaxScaler\n",
    "from sklearn.preprocessing import RobustScaler\n",
    "from sklearn.linear_model import LinearRegression\n",
    "from keras.models import Sequential\n",
    "from keras.layers.normalization import BatchNormalization\n",
    "from keras.layers.convolutional import Conv2D\n",
    "from keras.layers.convolutional import MaxPooling2D\n",
    "from keras.layers.core import Activation\n",
    "from keras.layers.core import Dropout\n",
    "from keras.layers.core import Dense\n",
    "from keras import optimizers\n",
    "from keras.initializers import lecun_normal\n",
    "from sklearn.model_selection import cross_val_score, train_test_split, cross_val_predict\n",
    "from sklearn.neural_network import MLPRegressor"
   ]
  },
  {
   "cell_type": "code",
   "execution_count": 2,
   "metadata": {},
   "outputs": [
    {
     "data": {
      "text/plain": [
       "'2.0.0'"
      ]
     },
     "execution_count": 2,
     "metadata": {},
     "output_type": "execute_result"
    }
   ],
   "source": [
    "tf.__version__"
   ]
  },
  {
   "cell_type": "code",
   "execution_count": 3,
   "metadata": {},
   "outputs": [],
   "source": [
    "PATH_INPUT_TABLE = '[i] data/'"
   ]
  },
  {
   "cell_type": "code",
   "execution_count": 4,
   "metadata": {},
   "outputs": [],
   "source": [
    "if not(os.path.isdir(PATH_INPUT_TABLE)):\n",
    "    os.makedirs(PATH_INPUT_TABLE)"
   ]
  },
  {
   "cell_type": "code",
   "execution_count": 5,
   "metadata": {},
   "outputs": [
    {
     "name": "stdout",
     "output_type": "stream",
     "text": [
      "sample_submission-----------\n",
      "['id', 'hhb', 'hbo2', 'ca', 'na']\n",
      "(10000, 5)\n",
      "test-----------\n",
      "['id', 'rho', '650_src', '660_src', '670_src', '680_src', '690_src', '700_src', '710_src', '720_src', '730_src', '740_src', '750_src', '760_src', '770_src', '780_src', '790_src', '800_src', '810_src', '820_src', '830_src', '840_src', '850_src', '860_src', '870_src', '880_src', '890_src', '900_src', '910_src', '920_src', '930_src', '940_src', '950_src', '960_src', '970_src', '980_src', '990_src', '650_dst', '660_dst', '670_dst', '680_dst', '690_dst', '700_dst', '710_dst', '720_dst', '730_dst', '740_dst', '750_dst', '760_dst', '770_dst', '780_dst', '790_dst', '800_dst', '810_dst', '820_dst', '830_dst', '840_dst', '850_dst', '860_dst', '870_dst', '880_dst', '890_dst', '900_dst', '910_dst', '920_dst', '930_dst', '940_dst', '950_dst', '960_dst', '970_dst', '980_dst', '990_dst']\n",
      "(10000, 72)\n",
      "train-----------\n",
      "['id', 'rho', '650_src', '660_src', '670_src', '680_src', '690_src', '700_src', '710_src', '720_src', '730_src', '740_src', '750_src', '760_src', '770_src', '780_src', '790_src', '800_src', '810_src', '820_src', '830_src', '840_src', '850_src', '860_src', '870_src', '880_src', '890_src', '900_src', '910_src', '920_src', '930_src', '940_src', '950_src', '960_src', '970_src', '980_src', '990_src', '650_dst', '660_dst', '670_dst', '680_dst', '690_dst', '700_dst', '710_dst', '720_dst', '730_dst', '740_dst', '750_dst', '760_dst', '770_dst', '780_dst', '790_dst', '800_dst', '810_dst', '820_dst', '830_dst', '840_dst', '850_dst', '860_dst', '870_dst', '880_dst', '890_dst', '900_dst', '910_dst', '920_dst', '930_dst', '940_dst', '950_dst', '960_dst', '970_dst', '980_dst', '990_dst', 'hhb', 'hbo2', 'ca', 'na']\n",
      "(10000, 76)\n"
     ]
    }
   ],
   "source": [
    "# CSV TO DATA\n",
    "def csvToData(csv_file):\n",
    "    df = pd.read_csv(csv_file, header = 0)\n",
    "    column = list(df.columns.values)\n",
    "    data = df.values\n",
    "    return column, data\n",
    "\n",
    "sample_column, sample_csv_data = csvToData(PATH_INPUT_TABLE+\"sample_submission.csv\")\n",
    "test_column, test_csv_data = csvToData(PATH_INPUT_TABLE+\"test.csv\")\n",
    "train_column, train_csv_data = csvToData(PATH_INPUT_TABLE+\"train.csv\")\n",
    "print('sample_submission-----------')\n",
    "print(sample_column)\n",
    "print(sample_csv_data.shape)\n",
    "print('test-----------')\n",
    "print(test_column)\n",
    "print(test_csv_data.shape)\n",
    "print('train-----------')\n",
    "print(train_column)\n",
    "print(train_csv_data.shape)\n"
   ]
  },
  {
   "cell_type": "code",
   "execution_count": 6,
   "metadata": {},
   "outputs": [
    {
     "name": "stdout",
     "output_type": "stream",
     "text": [
      "(10000, 5) (10000, 72) (10000, 76)\n"
     ]
    }
   ],
   "source": [
    "# Data to DataFrame\n",
    "sample_data = pd.DataFrame(sample_csv_data, columns=sample_column)\n",
    "test_data = pd.DataFrame(test_csv_data, columns=test_column)\n",
    "train_data = pd.DataFrame(train_csv_data, columns=train_column)\n",
    "print(sample_data.shape, test_data.shape, train_data.shape)"
   ]
  },
  {
   "cell_type": "code",
   "execution_count": 7,
   "metadata": {},
   "outputs": [],
   "source": [
    "src_list=['650_src', '660_src', '670_src', '680_src', '690_src', '700_src', '710_src', '720_src', '730_src', \n",
    "          '740_src', '750_src', '760_src', '770_src', '780_src', '790_src', '800_src', '810_src', '820_src', \n",
    "          '830_src', '840_src', '850_src', '860_src', '870_src', '880_src', '890_src', '900_src', '910_src', \n",
    "          '920_src', '930_src', '940_src', '950_src', '960_src', '970_src', '980_src', '990_src']\n",
    "dst_list=['650_dst', '660_dst', '670_dst', '680_dst', '690_dst', '700_dst', '710_dst', '720_dst', '730_dst', \n",
    "          '740_dst', '750_dst', '760_dst', '770_dst', '780_dst', '790_dst', '800_dst', '810_dst', '820_dst', \n",
    "          '830_dst', '840_dst', '850_dst', '860_dst', '870_dst', '880_dst', '890_dst', '900_dst', '910_dst', \n",
    "          '920_dst', '930_dst', '940_dst', '950_dst', '960_dst', '970_dst', '980_dst', '990_dst']"
   ]
  },
  {
   "cell_type": "code",
   "execution_count": 8,
   "metadata": {},
   "outputs": [
    {
     "name": "stderr",
     "output_type": "stream",
     "text": [
      "100%|██████████| 10000/10000 [00:12<00:00, 802.27it/s]\n",
      "100%|██████████| 10000/10000 [00:11<00:00, 843.24it/s]\n"
     ]
    }
   ],
   "source": [
    "# 보간법 tqdm , \n",
    "from tqdm import tqdm\n",
    "alpha=train_data[dst_list]\n",
    "beta=test_data[dst_list]\n",
    "\n",
    "for i in tqdm(train_data.index):\n",
    "    alpha.loc[i] = alpha.loc[i].interpolate()\n",
    "    \n",
    "for i in tqdm(test_data.index):\n",
    "    beta.loc[i] = beta.loc[i].interpolate()\n",
    "    \n",
    "#위에 보간법을 사용하게되면, 앞단에 비는 경우가 발생. 빌 경우 뒷단에 있는 데이터를 끌어다가 씀.\n",
    "alpha.loc[alpha['700_dst'].isnull(),'700_dst']=alpha.loc[alpha['700_dst'].isnull(),'710_dst']\n",
    "alpha.loc[alpha['690_dst'].isnull(),'690_dst']=alpha.loc[alpha['690_dst'].isnull(),'700_dst']\n",
    "alpha.loc[alpha['680_dst'].isnull(),'680_dst']=alpha.loc[alpha['680_dst'].isnull(),'690_dst']\n",
    "alpha.loc[alpha['670_dst'].isnull(),'670_dst']=alpha.loc[alpha['670_dst'].isnull(),'680_dst']\n",
    "alpha.loc[alpha['660_dst'].isnull(),'660_dst']=alpha.loc[alpha['660_dst'].isnull(),'670_dst']\n",
    "alpha.loc[alpha['650_dst'].isnull(),'650_dst']=alpha.loc[alpha['650_dst'].isnull(),'660_dst']\n",
    "\n",
    "beta.loc[beta['700_dst'].isnull(),'700_dst']=beta.loc[beta['700_dst'].isnull(),'710_dst']\n",
    "beta.loc[beta['690_dst'].isnull(),'690_dst']=beta.loc[beta['690_dst'].isnull(),'700_dst']\n",
    "beta.loc[beta['680_dst'].isnull(),'680_dst']=beta.loc[beta['680_dst'].isnull(),'690_dst']\n",
    "beta.loc[beta['670_dst'].isnull(),'670_dst']=beta.loc[beta['670_dst'].isnull(),'680_dst']\n",
    "beta.loc[beta['660_dst'].isnull(),'660_dst']=beta.loc[beta['660_dst'].isnull(),'670_dst']\n",
    "beta.loc[beta['650_dst'].isnull(),'650_dst']=beta.loc[beta['650_dst'].isnull(),'660_dst']\n",
    "\n",
    "train_data[dst_list] = np.array(alpha)\n",
    "test_data[dst_list] = np.array(beta)"
   ]
  },
  {
   "cell_type": "code",
   "execution_count": 9,
   "metadata": {},
   "outputs": [],
   "source": [
    "# rho 값의 제곱을 dst에 곱해줌.\n",
    "for col in dst_list:\n",
    "    train_data[col] = train_data[col] * (train_data['rho'] ** 2)\n",
    "    test_data[col] = test_data[col] * (test_data['rho']**2)"
   ]
  },
  {
   "cell_type": "code",
   "execution_count": 10,
   "metadata": {},
   "outputs": [],
   "source": [
    "# rho 값을 범주형 변수로 가정하고 원-핫-인코딩 적용 (JYH)\n",
    "train_data[['rho_10', 'rho_15', 'rho_20', 'rho_25']] = pd.get_dummies(train_data['rho'])\n",
    "test_data[['rho_10', 'rho_15', 'rho_20', 'rho_25']] = pd.get_dummies(test_data['rho'])"
   ]
  },
  {
   "cell_type": "code",
   "execution_count": 11,
   "metadata": {},
   "outputs": [],
   "source": [
    "#원래 빛과 측정빛의 차이값을 변수로 추가\n",
    "gap_feature_names=[]\n",
    "for i in range(650, 1000, 10):\n",
    "    gap_feature_names.append(str(i) + '_gap')\n",
    "\n",
    "alpha=pd.DataFrame(np.array(train_data[src_list]) - np.array(train_data[dst_list]), columns=gap_feature_names, index=train_data.index)\n",
    "beta=pd.DataFrame(np.array(test_data[src_list]) - np.array(test_data[dst_list]), columns=gap_feature_names, index=test_data.index)\n",
    "\n",
    "train_data=pd.concat((train_data, alpha), axis=1)\n",
    "test_data=pd.concat((test_data, beta), axis=1)"
   ]
  },
  {
   "cell_type": "code",
   "execution_count": 12,
   "metadata": {},
   "outputs": [],
   "source": [
    "#원래 빛과 측정빛의 차이 비율을 변수 추가\n",
    "epsilon=1e-10\n",
    "\n",
    "for dst_col, src_col in zip(dst_list, src_list):\n",
    "    dst_val=train_data[dst_col]\n",
    "    src_val=train_data[src_col] + epsilon\n",
    "    \n",
    "    delta_ratio = dst_val / src_val\n",
    "    train_data[dst_col + '_' + src_col + '_ratio'] = delta_ratio\n",
    "    \n",
    "    dst_val=test_data[dst_col]\n",
    "    src_val=test_data[src_col] + epsilon\n",
    "    \n",
    "    delta_ratio = dst_val / src_val\n",
    "    test_data[dst_col + '_' + src_col + '_ratio'] = delta_ratio"
   ]
  },
  {
   "cell_type": "code",
   "execution_count": 13,
   "metadata": {},
   "outputs": [
    {
     "name": "stderr",
     "output_type": "stream",
     "text": [
      "100%|██████████| 10000/10000 [00:30<00:00, 327.39it/s]\n",
      "100%|██████████| 10000/10000 [00:31<00:00, 315.27it/s]\n"
     ]
    }
   ],
   "source": [
    "##측정 빛에 이산 푸리에 변환\n",
    "alpha_real=train_data[dst_list]\n",
    "alpha_imag=train_data[dst_list]\n",
    "\n",
    "beta_real=test_data[dst_list]\n",
    "beta_imag=test_data[dst_list]\n",
    "\n",
    "for i in tqdm(alpha_real.index):\n",
    "    alpha_real.loc[i]=alpha_real.loc[i] - alpha_real.loc[i].mean()\n",
    "    alpha_imag.loc[i]=alpha_imag.loc[i] - alpha_real.loc[i].mean()\n",
    "    \n",
    "    alpha_real.loc[i] = np.fft.fft(alpha_real.loc[i], norm='ortho').real\n",
    "    alpha_imag.loc[i] = np.fft.fft(alpha_imag.loc[i], norm='ortho').imag\n",
    "\n",
    "    \n",
    "for i in tqdm(beta_real.index):\n",
    "    beta_real.loc[i]=beta_real.loc[i] - beta_real.loc[i].mean()\n",
    "    beta_imag.loc[i]=beta_imag.loc[i] - beta_imag.loc[i].mean()\n",
    "    \n",
    "    beta_real.loc[i] = np.fft.fft(beta_real.loc[i], norm='ortho').real\n",
    "    beta_imag.loc[i] = np.fft.fft(beta_imag.loc[i], norm='ortho').imag\n",
    "    \n",
    "real_part=[]\n",
    "imag_part=[]\n",
    "\n",
    "for col in dst_list:\n",
    "    real_part.append(col + '_fft_real')\n",
    "    imag_part.append(col + '_fft_imag')\n",
    "    \n",
    "alpha_real.columns=real_part\n",
    "alpha_imag.columns=imag_part\n",
    "alpha = pd.concat((alpha_real, alpha_imag), axis=1)\n",
    "\n",
    "beta_real.columns=real_part\n",
    "beta_imag.columns=imag_part\n",
    "beta=pd.concat((beta_real, beta_imag), axis=1)\n",
    "\n",
    "train_data=pd.concat((train_data, alpha), axis=1)\n",
    "test_data=pd.concat((test_data, beta), axis=1)"
   ]
  },
  {
   "cell_type": "code",
   "execution_count": 14,
   "metadata": {},
   "outputs": [
    {
     "name": "stdout",
     "output_type": "stream",
     "text": [
      "False False\n"
     ]
    }
   ],
   "source": [
    "print(np.isnan(train_data).values.any(),np.isnan(test_data).values.any())"
   ]
  },
  {
   "cell_type": "markdown",
   "metadata": {},
   "source": [
    "## Data split\n",
    "\n",
    "training data ( 8000개 ) = train_dataset\n",
    "\n",
    "validataion data ( 2000개 ) = test_dataset"
   ]
  },
  {
   "cell_type": "code",
   "execution_count": 15,
   "metadata": {},
   "outputs": [
    {
     "name": "stdout",
     "output_type": "stream",
     "text": [
      "(8000, 219) (2000, 219)\n"
     ]
    }
   ],
   "source": [
    "num_traindata = 8000\n",
    "num_validdata = 2000\n",
    "from sklearn.utils import shuffle\n",
    "#train_data = shuffle(train_data) # 여기서 섞지 않고 뒤에서 섞음\n",
    "train_dataset = train_data[:num_traindata]\n",
    "valid_dataset = train_data[num_traindata : num_traindata + num_validdata]\n",
    "train_dataset = train_dataset.drop('id',axis = 1)\n",
    "valid_dataset = valid_dataset.drop('id',axis = 1)\n",
    "print(train_dataset.shape, valid_dataset.shape)"
   ]
  },
  {
   "cell_type": "code",
   "execution_count": 16,
   "metadata": {},
   "outputs": [
    {
     "data": {
      "text/html": [
       "<div>\n",
       "<style scoped>\n",
       "    .dataframe tbody tr th:only-of-type {\n",
       "        vertical-align: middle;\n",
       "    }\n",
       "\n",
       "    .dataframe tbody tr th {\n",
       "        vertical-align: top;\n",
       "    }\n",
       "\n",
       "    .dataframe thead th {\n",
       "        text-align: right;\n",
       "    }\n",
       "</style>\n",
       "<table border=\"1\" class=\"dataframe\">\n",
       "  <thead>\n",
       "    <tr style=\"text-align: right;\">\n",
       "      <th></th>\n",
       "      <th>id</th>\n",
       "      <th>rho</th>\n",
       "      <th>650_src</th>\n",
       "      <th>660_src</th>\n",
       "      <th>670_src</th>\n",
       "      <th>680_src</th>\n",
       "      <th>690_src</th>\n",
       "      <th>700_src</th>\n",
       "      <th>710_src</th>\n",
       "      <th>720_src</th>\n",
       "      <th>...</th>\n",
       "      <th>900_dst_fft_imag</th>\n",
       "      <th>910_dst_fft_imag</th>\n",
       "      <th>920_dst_fft_imag</th>\n",
       "      <th>930_dst_fft_imag</th>\n",
       "      <th>940_dst_fft_imag</th>\n",
       "      <th>950_dst_fft_imag</th>\n",
       "      <th>960_dst_fft_imag</th>\n",
       "      <th>970_dst_fft_imag</th>\n",
       "      <th>980_dst_fft_imag</th>\n",
       "      <th>990_dst_fft_imag</th>\n",
       "    </tr>\n",
       "  </thead>\n",
       "  <tbody>\n",
       "    <tr>\n",
       "      <th>0</th>\n",
       "      <td>0.0</td>\n",
       "      <td>25.0</td>\n",
       "      <td>0.37950</td>\n",
       "      <td>0.42993</td>\n",
       "      <td>0.52076</td>\n",
       "      <td>0.57166</td>\n",
       "      <td>0.67818</td>\n",
       "      <td>0.75476</td>\n",
       "      <td>0.83580</td>\n",
       "      <td>0.93623</td>\n",
       "      <td>...</td>\n",
       "      <td>-2.499150e-15</td>\n",
       "      <td>-5.925972e-15</td>\n",
       "      <td>-5.878608e-15</td>\n",
       "      <td>-1.828763e-15</td>\n",
       "      <td>-1.414001e-14</td>\n",
       "      <td>8.639731e-15</td>\n",
       "      <td>-2.049048e-14</td>\n",
       "      <td>1.885808e-14</td>\n",
       "      <td>-1.766556e-14</td>\n",
       "      <td>9.777743e-15</td>\n",
       "    </tr>\n",
       "    <tr>\n",
       "      <th>1</th>\n",
       "      <td>1.0</td>\n",
       "      <td>10.0</td>\n",
       "      <td>0.00000</td>\n",
       "      <td>0.00000</td>\n",
       "      <td>0.01813</td>\n",
       "      <td>0.00000</td>\n",
       "      <td>0.00000</td>\n",
       "      <td>0.01974</td>\n",
       "      <td>0.00321</td>\n",
       "      <td>0.00000</td>\n",
       "      <td>...</td>\n",
       "      <td>1.226312e-07</td>\n",
       "      <td>2.042524e-09</td>\n",
       "      <td>-1.725298e-07</td>\n",
       "      <td>-4.027819e-07</td>\n",
       "      <td>-4.362750e-07</td>\n",
       "      <td>-1.309430e-07</td>\n",
       "      <td>4.438995e-08</td>\n",
       "      <td>-6.220824e-08</td>\n",
       "      <td>-6.684540e-07</td>\n",
       "      <td>-8.733176e-07</td>\n",
       "    </tr>\n",
       "    <tr>\n",
       "      <th>2</th>\n",
       "      <td>2.0</td>\n",
       "      <td>25.0</td>\n",
       "      <td>0.00000</td>\n",
       "      <td>0.03289</td>\n",
       "      <td>0.02416</td>\n",
       "      <td>0.03610</td>\n",
       "      <td>0.05843</td>\n",
       "      <td>0.09015</td>\n",
       "      <td>0.14944</td>\n",
       "      <td>0.18578</td>\n",
       "      <td>...</td>\n",
       "      <td>-1.244490e-15</td>\n",
       "      <td>1.132792e-15</td>\n",
       "      <td>-9.380224e-16</td>\n",
       "      <td>8.110310e-17</td>\n",
       "      <td>1.436967e-16</td>\n",
       "      <td>-6.232595e-16</td>\n",
       "      <td>-1.244170e-15</td>\n",
       "      <td>1.100232e-15</td>\n",
       "      <td>3.127724e-17</td>\n",
       "      <td>-7.971691e-16</td>\n",
       "    </tr>\n",
       "    <tr>\n",
       "      <th>3</th>\n",
       "      <td>3.0</td>\n",
       "      <td>10.0</td>\n",
       "      <td>0.27503</td>\n",
       "      <td>0.31281</td>\n",
       "      <td>0.32898</td>\n",
       "      <td>0.41041</td>\n",
       "      <td>0.46587</td>\n",
       "      <td>0.52769</td>\n",
       "      <td>0.64369</td>\n",
       "      <td>0.73562</td>\n",
       "      <td>...</td>\n",
       "      <td>1.093222e-09</td>\n",
       "      <td>-4.249315e-09</td>\n",
       "      <td>1.830984e-09</td>\n",
       "      <td>-1.644763e-08</td>\n",
       "      <td>-2.100219e-08</td>\n",
       "      <td>2.896683e-08</td>\n",
       "      <td>-6.658898e-08</td>\n",
       "      <td>5.905257e-08</td>\n",
       "      <td>-8.667646e-08</td>\n",
       "      <td>3.411591e-08</td>\n",
       "    </tr>\n",
       "    <tr>\n",
       "      <th>4</th>\n",
       "      <td>4.0</td>\n",
       "      <td>15.0</td>\n",
       "      <td>1.01521</td>\n",
       "      <td>1.00872</td>\n",
       "      <td>0.98930</td>\n",
       "      <td>0.98874</td>\n",
       "      <td>1.01773</td>\n",
       "      <td>1.01632</td>\n",
       "      <td>1.00009</td>\n",
       "      <td>0.98217</td>\n",
       "      <td>...</td>\n",
       "      <td>-2.365378e-12</td>\n",
       "      <td>-1.182417e-11</td>\n",
       "      <td>4.492002e-12</td>\n",
       "      <td>-7.566927e-12</td>\n",
       "      <td>-1.531614e-11</td>\n",
       "      <td>2.051367e-11</td>\n",
       "      <td>-2.805906e-11</td>\n",
       "      <td>4.161645e-12</td>\n",
       "      <td>-2.011835e-11</td>\n",
       "      <td>-1.183212e-11</td>\n",
       "    </tr>\n",
       "    <tr>\n",
       "      <th>...</th>\n",
       "      <td>...</td>\n",
       "      <td>...</td>\n",
       "      <td>...</td>\n",
       "      <td>...</td>\n",
       "      <td>...</td>\n",
       "      <td>...</td>\n",
       "      <td>...</td>\n",
       "      <td>...</td>\n",
       "      <td>...</td>\n",
       "      <td>...</td>\n",
       "      <td>...</td>\n",
       "      <td>...</td>\n",
       "      <td>...</td>\n",
       "      <td>...</td>\n",
       "      <td>...</td>\n",
       "      <td>...</td>\n",
       "      <td>...</td>\n",
       "      <td>...</td>\n",
       "      <td>...</td>\n",
       "      <td>...</td>\n",
       "      <td>...</td>\n",
       "    </tr>\n",
       "    <tr>\n",
       "      <th>9995</th>\n",
       "      <td>9995.0</td>\n",
       "      <td>15.0</td>\n",
       "      <td>0.23929</td>\n",
       "      <td>0.30265</td>\n",
       "      <td>0.39929</td>\n",
       "      <td>0.51000</td>\n",
       "      <td>0.64072</td>\n",
       "      <td>0.77328</td>\n",
       "      <td>0.86722</td>\n",
       "      <td>0.95891</td>\n",
       "      <td>...</td>\n",
       "      <td>-7.647036e-13</td>\n",
       "      <td>-2.248163e-12</td>\n",
       "      <td>-1.287705e-12</td>\n",
       "      <td>2.257995e-12</td>\n",
       "      <td>-7.975467e-12</td>\n",
       "      <td>4.008263e-12</td>\n",
       "      <td>-1.117272e-11</td>\n",
       "      <td>9.489414e-12</td>\n",
       "      <td>-9.229368e-12</td>\n",
       "      <td>1.198400e-11</td>\n",
       "    </tr>\n",
       "    <tr>\n",
       "      <th>9996</th>\n",
       "      <td>9996.0</td>\n",
       "      <td>20.0</td>\n",
       "      <td>0.02583</td>\n",
       "      <td>0.00946</td>\n",
       "      <td>0.03650</td>\n",
       "      <td>0.01380</td>\n",
       "      <td>0.04093</td>\n",
       "      <td>0.04363</td>\n",
       "      <td>0.03260</td>\n",
       "      <td>0.05282</td>\n",
       "      <td>...</td>\n",
       "      <td>-2.313764e-13</td>\n",
       "      <td>-2.243088e-13</td>\n",
       "      <td>-3.746210e-13</td>\n",
       "      <td>-1.705076e-13</td>\n",
       "      <td>-3.617507e-13</td>\n",
       "      <td>-2.187408e-13</td>\n",
       "      <td>-2.045813e-13</td>\n",
       "      <td>-3.027191e-13</td>\n",
       "      <td>-2.102738e-14</td>\n",
       "      <td>-2.125466e-13</td>\n",
       "    </tr>\n",
       "    <tr>\n",
       "      <th>9997</th>\n",
       "      <td>9997.0</td>\n",
       "      <td>10.0</td>\n",
       "      <td>0.57589</td>\n",
       "      <td>0.62976</td>\n",
       "      <td>0.70571</td>\n",
       "      <td>0.77248</td>\n",
       "      <td>0.85402</td>\n",
       "      <td>0.92796</td>\n",
       "      <td>0.97691</td>\n",
       "      <td>0.98933</td>\n",
       "      <td>...</td>\n",
       "      <td>-5.704373e-09</td>\n",
       "      <td>-6.291574e-09</td>\n",
       "      <td>-4.768703e-09</td>\n",
       "      <td>-7.104155e-09</td>\n",
       "      <td>-1.363704e-08</td>\n",
       "      <td>2.921666e-09</td>\n",
       "      <td>-2.069228e-08</td>\n",
       "      <td>9.994165e-09</td>\n",
       "      <td>-1.584549e-08</td>\n",
       "      <td>-2.666935e-09</td>\n",
       "    </tr>\n",
       "    <tr>\n",
       "      <th>9998</th>\n",
       "      <td>9998.0</td>\n",
       "      <td>15.0</td>\n",
       "      <td>1.01477</td>\n",
       "      <td>1.01504</td>\n",
       "      <td>0.99125</td>\n",
       "      <td>0.98747</td>\n",
       "      <td>1.00717</td>\n",
       "      <td>1.01434</td>\n",
       "      <td>0.99529</td>\n",
       "      <td>1.01322</td>\n",
       "      <td>...</td>\n",
       "      <td>-3.517399e-10</td>\n",
       "      <td>-4.924663e-10</td>\n",
       "      <td>-5.726573e-10</td>\n",
       "      <td>-4.265951e-10</td>\n",
       "      <td>-7.675309e-10</td>\n",
       "      <td>-2.876941e-10</td>\n",
       "      <td>-7.593025e-10</td>\n",
       "      <td>-1.649193e-10</td>\n",
       "      <td>-4.454471e-10</td>\n",
       "      <td>-1.178532e-10</td>\n",
       "    </tr>\n",
       "    <tr>\n",
       "      <th>9999</th>\n",
       "      <td>9999.0</td>\n",
       "      <td>10.0</td>\n",
       "      <td>0.24452</td>\n",
       "      <td>0.28182</td>\n",
       "      <td>0.36493</td>\n",
       "      <td>0.42131</td>\n",
       "      <td>0.50305</td>\n",
       "      <td>0.61418</td>\n",
       "      <td>0.70350</td>\n",
       "      <td>0.78836</td>\n",
       "      <td>...</td>\n",
       "      <td>-1.211389e-10</td>\n",
       "      <td>-8.184765e-10</td>\n",
       "      <td>-3.173588e-10</td>\n",
       "      <td>1.549215e-09</td>\n",
       "      <td>-5.936794e-09</td>\n",
       "      <td>1.053279e-08</td>\n",
       "      <td>-1.495638e-08</td>\n",
       "      <td>1.500324e-08</td>\n",
       "      <td>-1.193677e-08</td>\n",
       "      <td>6.319664e-09</td>\n",
       "    </tr>\n",
       "  </tbody>\n",
       "</table>\n",
       "<p>10000 rows × 220 columns</p>\n",
       "</div>"
      ],
      "text/plain": [
       "          id   rho  650_src  660_src  670_src  680_src  690_src  700_src  \\\n",
       "0        0.0  25.0  0.37950  0.42993  0.52076  0.57166  0.67818  0.75476   \n",
       "1        1.0  10.0  0.00000  0.00000  0.01813  0.00000  0.00000  0.01974   \n",
       "2        2.0  25.0  0.00000  0.03289  0.02416  0.03610  0.05843  0.09015   \n",
       "3        3.0  10.0  0.27503  0.31281  0.32898  0.41041  0.46587  0.52769   \n",
       "4        4.0  15.0  1.01521  1.00872  0.98930  0.98874  1.01773  1.01632   \n",
       "...      ...   ...      ...      ...      ...      ...      ...      ...   \n",
       "9995  9995.0  15.0  0.23929  0.30265  0.39929  0.51000  0.64072  0.77328   \n",
       "9996  9996.0  20.0  0.02583  0.00946  0.03650  0.01380  0.04093  0.04363   \n",
       "9997  9997.0  10.0  0.57589  0.62976  0.70571  0.77248  0.85402  0.92796   \n",
       "9998  9998.0  15.0  1.01477  1.01504  0.99125  0.98747  1.00717  1.01434   \n",
       "9999  9999.0  10.0  0.24452  0.28182  0.36493  0.42131  0.50305  0.61418   \n",
       "\n",
       "      710_src  720_src  ...  900_dst_fft_imag  910_dst_fft_imag  \\\n",
       "0     0.83580  0.93623  ...     -2.499150e-15     -5.925972e-15   \n",
       "1     0.00321  0.00000  ...      1.226312e-07      2.042524e-09   \n",
       "2     0.14944  0.18578  ...     -1.244490e-15      1.132792e-15   \n",
       "3     0.64369  0.73562  ...      1.093222e-09     -4.249315e-09   \n",
       "4     1.00009  0.98217  ...     -2.365378e-12     -1.182417e-11   \n",
       "...       ...      ...  ...               ...               ...   \n",
       "9995  0.86722  0.95891  ...     -7.647036e-13     -2.248163e-12   \n",
       "9996  0.03260  0.05282  ...     -2.313764e-13     -2.243088e-13   \n",
       "9997  0.97691  0.98933  ...     -5.704373e-09     -6.291574e-09   \n",
       "9998  0.99529  1.01322  ...     -3.517399e-10     -4.924663e-10   \n",
       "9999  0.70350  0.78836  ...     -1.211389e-10     -8.184765e-10   \n",
       "\n",
       "      920_dst_fft_imag  930_dst_fft_imag  940_dst_fft_imag  950_dst_fft_imag  \\\n",
       "0        -5.878608e-15     -1.828763e-15     -1.414001e-14      8.639731e-15   \n",
       "1        -1.725298e-07     -4.027819e-07     -4.362750e-07     -1.309430e-07   \n",
       "2        -9.380224e-16      8.110310e-17      1.436967e-16     -6.232595e-16   \n",
       "3         1.830984e-09     -1.644763e-08     -2.100219e-08      2.896683e-08   \n",
       "4         4.492002e-12     -7.566927e-12     -1.531614e-11      2.051367e-11   \n",
       "...                ...               ...               ...               ...   \n",
       "9995     -1.287705e-12      2.257995e-12     -7.975467e-12      4.008263e-12   \n",
       "9996     -3.746210e-13     -1.705076e-13     -3.617507e-13     -2.187408e-13   \n",
       "9997     -4.768703e-09     -7.104155e-09     -1.363704e-08      2.921666e-09   \n",
       "9998     -5.726573e-10     -4.265951e-10     -7.675309e-10     -2.876941e-10   \n",
       "9999     -3.173588e-10      1.549215e-09     -5.936794e-09      1.053279e-08   \n",
       "\n",
       "      960_dst_fft_imag  970_dst_fft_imag  980_dst_fft_imag  990_dst_fft_imag  \n",
       "0        -2.049048e-14      1.885808e-14     -1.766556e-14      9.777743e-15  \n",
       "1         4.438995e-08     -6.220824e-08     -6.684540e-07     -8.733176e-07  \n",
       "2        -1.244170e-15      1.100232e-15      3.127724e-17     -7.971691e-16  \n",
       "3        -6.658898e-08      5.905257e-08     -8.667646e-08      3.411591e-08  \n",
       "4        -2.805906e-11      4.161645e-12     -2.011835e-11     -1.183212e-11  \n",
       "...                ...               ...               ...               ...  \n",
       "9995     -1.117272e-11      9.489414e-12     -9.229368e-12      1.198400e-11  \n",
       "9996     -2.045813e-13     -3.027191e-13     -2.102738e-14     -2.125466e-13  \n",
       "9997     -2.069228e-08      9.994165e-09     -1.584549e-08     -2.666935e-09  \n",
       "9998     -7.593025e-10     -1.649193e-10     -4.454471e-10     -1.178532e-10  \n",
       "9999     -1.495638e-08      1.500324e-08     -1.193677e-08      6.319664e-09  \n",
       "\n",
       "[10000 rows x 220 columns]"
      ]
     },
     "execution_count": 16,
     "metadata": {},
     "output_type": "execute_result"
    }
   ],
   "source": [
    "train_data"
   ]
  },
  {
   "cell_type": "markdown",
   "metadata": {},
   "source": [
    "## Data split\n",
    "\n",
    "--training data ( 8000 )\n",
    "\n",
    "x_train\n",
    "\n",
    "y_train\n",
    "\n",
    "--validation data ( 2000 )\n",
    "\n",
    "x_test\n",
    "\n",
    "y_test\n",
    "\n",
    "--training data ( 10000 )\n",
    "\n",
    "x_train_sample \n",
    "\n",
    "y_train_sample"
   ]
  },
  {
   "cell_type": "code",
   "execution_count": 17,
   "metadata": {},
   "outputs": [
    {
     "data": {
      "text/plain": [
       "Index(['rho', '650_src', '660_src', '670_src', '680_src', '690_src', '700_src',\n",
       "       '710_src', '720_src', '730_src',\n",
       "       ...\n",
       "       '900_dst_fft_imag', '910_dst_fft_imag', '920_dst_fft_imag',\n",
       "       '930_dst_fft_imag', '940_dst_fft_imag', '950_dst_fft_imag',\n",
       "       '960_dst_fft_imag', '970_dst_fft_imag', '980_dst_fft_imag',\n",
       "       '990_dst_fft_imag'],\n",
       "      dtype='object', length=219)"
      ]
     },
     "execution_count": 17,
     "metadata": {},
     "output_type": "execute_result"
    }
   ],
   "source": [
    "train_dataset.keys()"
   ]
  },
  {
   "cell_type": "code",
   "execution_count": 18,
   "metadata": {},
   "outputs": [
    {
     "data": {
      "text/plain": [
       "((8000, 215), (8000, 4))"
      ]
     },
     "execution_count": 18,
     "metadata": {},
     "output_type": "execute_result"
    }
   ],
   "source": [
    "#x_train, y_train 분류\n",
    "x_train = train_dataset.loc[:, 'rho':] # train dataset\n",
    "x_train.drop(['hhb','hbo2','ca','na'], axis='columns', inplace=True)\n",
    "y_train = train_dataset.loc[:, 'hhb':'na'] # train labels\n",
    "x_train.shape, y_train.shape"
   ]
  },
  {
   "cell_type": "code",
   "execution_count": 19,
   "metadata": {},
   "outputs": [
    {
     "data": {
      "text/plain": [
       "((2000, 215), (2000, 4))"
      ]
     },
     "execution_count": 19,
     "metadata": {},
     "output_type": "execute_result"
    }
   ],
   "source": [
    "#x_test, y_test 분류\n",
    "x_test = valid_dataset.loc[:, 'rho':] # test dataset\n",
    "x_test.drop(['hhb','hbo2','ca','na'], axis='columns', inplace=True)\n",
    "y_test = valid_dataset.loc[:, 'hhb':'na'] # test labels\n",
    "x_test.shape, y_test.shape"
   ]
  },
  {
   "cell_type": "code",
   "execution_count": 20,
   "metadata": {},
   "outputs": [
    {
     "data": {
      "text/plain": [
       "((10000, 214), (10000, 4))"
      ]
     },
     "execution_count": 20,
     "metadata": {},
     "output_type": "execute_result"
    }
   ],
   "source": [
    "#sample Code 용\n",
    "#x_train_sample = train_data.loc[:, 'rho':] # train dataset\n",
    "x_train_sample = train_data.loc[:, '650_src':] # train dataset\n",
    "x_train_sample.drop(['hhb','hbo2','ca','na'], axis='columns', inplace=True)\n",
    "y_train_sample = train_data.loc[:, 'hhb':'na'] # train labels\n",
    "x_train_sample.shape, y_train_sample.shape"
   ]
  },
  {
   "cell_type": "code",
   "execution_count": 21,
   "metadata": {},
   "outputs": [
    {
     "data": {
      "text/plain": [
       "(10000, 214)"
      ]
     },
     "execution_count": 21,
     "metadata": {},
     "output_type": "execute_result"
    }
   ],
   "source": [
    "#sample Code 용\n",
    "#x_train_sample = train_data.loc[:, 'rho':] # test dataset\n",
    "x_test_sample = test_data.loc[:, '650_src':] # test dataset\n",
    "#x_test_sample.drop(['hhb','hbo2','ca','na'], axis='columns', inplace=True)\n",
    "#y_test_sample = test_data.loc[:, 'hhb':'na'] # train labels\n",
    "x_test_sample.shape#, y_test_sample.shape"
   ]
  },
  {
   "cell_type": "code",
   "execution_count": 22,
   "metadata": {},
   "outputs": [],
   "source": [
    "import copy"
   ]
  },
  {
   "cell_type": "code",
   "execution_count": 23,
   "metadata": {},
   "outputs": [],
   "source": [
    "# train, validation, test 분할\n",
    "# 교차 검증을 할 것이므로 train, test 로만 분할\n",
    "X = copy.deepcopy(x_train_sample) # 단순 대입을 하면 참조가 됨. 값을 복사\n",
    "Y = copy.deepcopy(y_train_sample) # 단순 대입을 하면 참조가 됨. 값을 복사\n",
    "\n",
    "x_train, x_test, y_train, y_test = train_test_split(X, Y, test_size=0.2, random_state=1)\n",
    "#x_train, x_val, y_train, y_val = train_test_split(x_train, y_train, test_size=0.2, random_state=1)"
   ]
  },
  {
   "cell_type": "code",
   "execution_count": 42,
   "metadata": {
    "scrolled": true
   },
   "outputs": [
    {
     "name": "stdout",
     "output_type": "stream",
     "text": [
      "hhb (8000, 214) (8000, 214) (2000, 214) (2000, 214)\n",
      "hbo2 (8000, 214) (8000, 214) (2000, 214) (2000, 214)\n",
      "ca (8000, 214) (8000, 214) (2000, 214) (2000, 214)\n",
      "na (8000, 214) (8000, 214) (2000, 214) (2000, 214)\n"
     ]
    },
    {
     "data": {
      "image/png": "[encoded data removed]",
      "text/plain": [
       "<Figure size 1152x144 with 1 Axes>"
      ]
     },
     "metadata": {
      "needs_background": "light"
     },
     "output_type": "display_data"
    },
    {
     "data": {
      "image/png": "[encoded data removed]",
      "text/plain": [
       "<Figure size 1152x144 with 1 Axes>"
      ]
     },
     "metadata": {
      "needs_background": "light"
     },
     "output_type": "display_data"
    },
    {
     "data": {
      "image/png": "[encoded data removed]",
      "text/plain": [
       "<Figure size 1152x144 with 1 Axes>"
      ]
     },
     "metadata": {
      "needs_background": "light"
     },
     "output_type": "display_data"
    },
    {
     "data": {
      "image/png": "[encoded data removed]",
      "text/plain": [
       "<Figure size 1152x144 with 1 Axes>"
      ]
     },
     "metadata": {
      "needs_background": "light"
     },
     "output_type": "display_data"
    }
   ],
   "source": [
    "# 특성 선택 (일변량 통계) (JYH)\n",
    "from sklearn.feature_selection import SelectPercentile\n",
    "\n",
    "select = SelectPercentile(percentile=100)\n",
    "\n",
    "x_train_selected = {}\n",
    "x_test_selected = {}\n",
    "x_submit_selected = {}\n",
    "\n",
    "for col in y_train_sample.columns:\n",
    "    #select.fit(x_train_sample, y_train_sample[col])\n",
    "    #np_selected = select.transform(x_train_sample)\n",
    "    select.fit(x_train, y_train[col])\n",
    "    np_selected = select.transform(x_train)\n",
    "    mask = select.get_support()\n",
    "    \n",
    "    #x_train_selected[col] = pd.DataFrame(np_selected, columns=x_train_sample.columns[mask])\n",
    "    #x_test_selected[col] = pd.DataFrame(x_test_sample[x_train_sample.columns[mask]], columns=x_train_sample.columns[mask])\n",
    "    x_train_selected[col] = pd.DataFrame(np_selected, columns=x_train.columns[mask])\n",
    "    x_test_selected[col] = pd.DataFrame(x_test[x_train.columns[mask]], columns=x_train.columns[mask])\n",
    "    x_submit_selected[col] = pd.DataFrame(x_test_sample[x_train.columns[mask]], columns=x_train.columns[mask])\n",
    "    \n",
    "    #print(col, x_train_sample.shape, x_train_selected[col].shape)\n",
    "    print(col, x_train.shape, x_train_selected[col].shape, x_test.shape, x_test_selected[col].shape)\n",
    "    plt.matshow(mask.reshape(1,-1), cmap='gray_r')\n",
    "    plt.xlabel('특성 번호')"
   ]
  },
  {
   "cell_type": "raw",
   "metadata": {
    "scrolled": true
   },
   "source": [
    "# 특성 선택 (일변량 통계) (JYH)\n",
    "from sklearn.feature_selection import SelectFromModel\n",
    "\n",
    "select = SelectPercentile(percentile=70)\n",
    "\n",
    "x_train_selected = {}\n",
    "for col in y_train_sample.columns:\n",
    "    select.fit(x_train_sample, y_train_sample[col])\n",
    "    np_selected = select.transform(x_train_sample)\n",
    "    mask = select.get_support()\n",
    "    x_train_selected[col] = pd.DataFrame(np_selected, columns=x_train_sample.columns[mask])\n",
    "    print(col, x_train_sample.shape, x_train_selected[col].shape)\n",
    "    plt.matshow(mask.reshape(1,-1), cmap='gray_r')\n",
    "    plt.xlabel('특성 번호')"
   ]
  },
  {
   "cell_type": "code",
   "execution_count": null,
   "metadata": {},
   "outputs": [],
   "source": [
    "\n"
   ]
  },
  {
   "cell_type": "code",
   "execution_count": null,
   "metadata": {},
   "outputs": [],
   "source": []
  },
  {
   "cell_type": "raw",
   "metadata": {},
   "source": [
    "#Sample_code\n",
    "avr_valid_mse = 0\n",
    "def test_train_model(x_data, y_data, k=5):\n",
    "    models = []\n",
    "    \n",
    "    k_fold = KFold(n_splits=k, shuffle=True, random_state=123)\n",
    "    \n",
    "    for train_idx, val_idx in k_fold.split(x_data):\n",
    "        \n",
    "        x_train, y_train = x_data.iloc[train_idx], y_data.iloc[train_idx]\n",
    "        x_val, y_val = x_data.iloc[val_idx], y_data.iloc[val_idx]\n",
    "    \n",
    "        d_train = xgb.DMatrix(data = x_train, label = y_train)\n",
    "        d_val = xgb.DMatrix(data = x_val, label = y_val)\n",
    "        \n",
    "        wlist = [(d_train, 'train'), (d_val, 'eval')]\n",
    "        \n",
    "        params = {\n",
    "            'objective': 'reg:squarederror',\n",
    "            'eval_metric': 'mae',\n",
    "            'seed':777\n",
    "            }\n",
    "\n",
    "\n",
    "        #model = xgb.train(params=params, dtrain=d_train, num_boost_round=1000, verbose_eval=1000, evals=wlist)\n",
    "        model = xgb.train(params=params, dtrain=d_train, num_boost_round=150, verbose_eval=150, evals=wlist)\n",
    "        models.append(model)\n",
    "        \n",
    "        \n",
    "\n",
    "    return models\n",
    "\n",
    "models = {}\n",
    "for label in y_train.columns:\n",
    "    print(label)\n",
    "    #models[label] = test_train_model(x_train_sample, y_train_sample[label])models[label] = test_train_model(x_train_sample, y_train_sample[label])z\n",
    "    models[label] = test_train_model(x_train_selected[label], y_train_sample[label])\n",
    "    "
   ]
  },
  {
   "cell_type": "code",
   "execution_count": 43,
   "metadata": {},
   "outputs": [],
   "source": [
    "from sklearn.model_selection import RandomizedSearchCV\n",
    "from sklearn.model_selection import KFold\n",
    "#from sklearn.cross_validation import kFold"
   ]
  },
  {
   "cell_type": "code",
   "execution_count": 45,
   "metadata": {
    "scrolled": false
   },
   "outputs": [
    {
     "name": "stdout",
     "output_type": "stream",
     "text": [
      "hhb\n",
      "XGBRegressor(base_score=0.5, booster='gbtree', colsample_bylevel=1,\n",
      "             colsample_bynode=1, colsample_bytree=1, gamma=0, gpu_id=None,\n",
      "             importance_type='gain', interaction_constraints=None,\n",
      "             learning_rate=0.1, max_delta_step=0, max_depth=3,\n",
      "             min_child_weight=1, missing=nan, monotone_constraints=None,\n",
      "             n_estimators=100, n_jobs=1, nthread=None, num_parallel_tree=None,\n",
      "             objective='reg:squarederror', random_state=0, reg_alpha=0,\n",
      "             reg_lambda=1, scale_pos_weight=1, seed=None, silent=None,\n",
      "             subsample=1, tree_method=None, validate_parameters=False,\n",
      "             verbosity=1)\n",
      "training score 0.8426929225873321\n",
      "K-fold CV average score: 0.80\n",
      "hbo2\n",
      "XGBRegressor(base_score=0.5, booster='gbtree', colsample_bylevel=1,\n",
      "             colsample_bynode=1, colsample_bytree=1, gamma=0, gpu_id=None,\n",
      "             importance_type='gain', interaction_constraints=None,\n",
      "             learning_rate=0.1, max_delta_step=0, max_depth=3,\n",
      "             min_child_weight=1, missing=nan, monotone_constraints=None,\n",
      "             n_estimators=100, n_jobs=1, nthread=None, num_parallel_tree=None,\n",
      "             objective='reg:squarederror', random_state=0, reg_alpha=0,\n",
      "             reg_lambda=1, scale_pos_weight=1, seed=None, silent=None,\n",
      "             subsample=1, tree_method=None, validate_parameters=False,\n",
      "             verbosity=1)\n",
      "training score 0.4232931811905788\n",
      "K-fold CV average score: 0.31\n",
      "ca\n",
      "XGBRegressor(base_score=0.5, booster='gbtree', colsample_bylevel=1,\n",
      "             colsample_bynode=1, colsample_bytree=1, gamma=0, gpu_id=None,\n",
      "             importance_type='gain', interaction_constraints=None,\n",
      "             learning_rate=0.1, max_delta_step=0, max_depth=3,\n",
      "             min_child_weight=1, missing=nan, monotone_constraints=None,\n",
      "             n_estimators=100, n_jobs=1, nthread=None, num_parallel_tree=None,\n",
      "             objective='reg:squarederror', random_state=0, reg_alpha=0,\n",
      "             reg_lambda=1, scale_pos_weight=1, seed=None, silent=None,\n",
      "             subsample=1, tree_method=None, validate_parameters=False,\n",
      "             verbosity=1)\n",
      "training score 0.4057721504484212\n",
      "K-fold CV average score: 0.31\n",
      "na\n",
      "XGBRegressor(base_score=0.5, booster='gbtree', colsample_bylevel=1,\n",
      "             colsample_bynode=1, colsample_bytree=1, gamma=0, gpu_id=None,\n",
      "             importance_type='gain', interaction_constraints=None,\n",
      "             learning_rate=0.1, max_delta_step=0, max_depth=3,\n",
      "             min_child_weight=1, missing=nan, monotone_constraints=None,\n",
      "             n_estimators=100, n_jobs=1, nthread=None, num_parallel_tree=None,\n",
      "             objective='reg:squarederror', random_state=0, reg_alpha=0,\n",
      "             reg_lambda=1, scale_pos_weight=1, seed=None, silent=None,\n",
      "             subsample=1, tree_method=None, validate_parameters=False,\n",
      "             verbosity=1)\n",
      "training score 0.316458120967939\n",
      "K-fold CV average score: 0.20\n"
     ]
    }
   ],
   "source": [
    "# https://www.datatechnotes.com/2019/06/regression-example-with-xgbregressor-in.html\n",
    "\n",
    "def FitModel(x_data, y_data):\n",
    "    #xgbr = xgb.XGBRegressor(verbosity=0) \n",
    "    #\"\"\"\n",
    "    xgbr = XGBRegressor(base_score=0.5, booster='gbtree', colsample_bylevel=1,\n",
    "           colsample_bynode=1, colsample_bytree=1, gamma=0,\n",
    "           importance_type='gain', learning_rate=0.1, max_delta_step=0,\n",
    "           max_depth=3, min_child_weight=1, missing=None, n_estimators=100,\n",
    "           #n_jobs=1, nthread=None, objective='reg:linear', random_state=0,\n",
    "           n_jobs=1, nthread=None, objective='reg:squarederror', random_state=0,\n",
    "           reg_alpha=0, reg_lambda=1, scale_pos_weight=1, seed=None,\n",
    "           silent=None, subsample=1, verbosity=1)\n",
    "    #\"\"\"\n",
    "    print(xgbr)\n",
    "    \n",
    "    #Next, we'll fit the model with train data.\n",
    "\n",
    "    xgbr.fit(x_data, y_data)\n",
    "    \n",
    "    score = xgbr.score(x_data, y_data)\n",
    "    print(\"training score\", score)\n",
    "    \n",
    "    kfold = KFold(n_splits=5, shuffle=True)\n",
    "    scores = cross_val_score(xgbr, x_data, y_data, cv=kfold)\n",
    "    print(\"K-fold CV average score: %.2f\" % scores.mean())\n",
    "    #scores = cross_val_score(xgbr, x_data, y_data,cv=5)\n",
    "    #print(\"Mean cross-validation score: %.2f\" % scores.mean())\n",
    "\n",
    "    return xgbr\n",
    "    \n",
    "models = {}\n",
    "for label in y_train.columns:\n",
    "    print(label)\n",
    "    #models[label] = FitModel(x_train_selected[label], y_train_sample[label])\n",
    "    models[label] = FitModel(x_train_selected[label], y_train[label])"
   ]
  },
  {
   "cell_type": "code",
   "execution_count": 46,
   "metadata": {},
   "outputs": [],
   "source": [
    "from sklearn.metrics import mean_squared_error"
   ]
  },
  {
   "cell_type": "code",
   "execution_count": 47,
   "metadata": {
    "scrolled": false
   },
   "outputs": [
    {
     "name": "stdout",
     "output_type": "stream",
     "text": [
      "hhb 1.7651635565831003\n",
      "hbo2 0.6784584555347917\n",
      "ca 6.009989649359908\n",
      "na 2.748662829037926\n"
     ]
    },
    {
     "data": {
      "text/html": [
       "<div>\n",
       "<style scoped>\n",
       "    .dataframe tbody tr th:only-of-type {\n",
       "        vertical-align: middle;\n",
       "    }\n",
       "\n",
       "    .dataframe tbody tr th {\n",
       "        vertical-align: top;\n",
       "    }\n",
       "\n",
       "    .dataframe thead th {\n",
       "        text-align: right;\n",
       "    }\n",
       "</style>\n",
       "<table border=\"1\" class=\"dataframe\">\n",
       "  <thead>\n",
       "    <tr style=\"text-align: right;\">\n",
       "      <th></th>\n",
       "      <th>hhb</th>\n",
       "      <th>hbo2</th>\n",
       "      <th>ca</th>\n",
       "      <th>na</th>\n",
       "    </tr>\n",
       "  </thead>\n",
       "  <tbody>\n",
       "    <tr>\n",
       "      <th>0</th>\n",
       "      <td>5.972959</td>\n",
       "      <td>3.834299</td>\n",
       "      <td>9.528891</td>\n",
       "      <td>2.990808</td>\n",
       "    </tr>\n",
       "    <tr>\n",
       "      <th>1</th>\n",
       "      <td>10.984644</td>\n",
       "      <td>4.309384</td>\n",
       "      <td>8.331228</td>\n",
       "      <td>3.351722</td>\n",
       "    </tr>\n",
       "    <tr>\n",
       "      <th>2</th>\n",
       "      <td>8.616593</td>\n",
       "      <td>4.248438</td>\n",
       "      <td>8.278458</td>\n",
       "      <td>2.828924</td>\n",
       "    </tr>\n",
       "    <tr>\n",
       "      <th>3</th>\n",
       "      <td>5.414251</td>\n",
       "      <td>3.343987</td>\n",
       "      <td>7.075004</td>\n",
       "      <td>3.712949</td>\n",
       "    </tr>\n",
       "    <tr>\n",
       "      <th>4</th>\n",
       "      <td>12.216601</td>\n",
       "      <td>4.416126</td>\n",
       "      <td>10.077333</td>\n",
       "      <td>3.378476</td>\n",
       "    </tr>\n",
       "    <tr>\n",
       "      <th>...</th>\n",
       "      <td>...</td>\n",
       "      <td>...</td>\n",
       "      <td>...</td>\n",
       "      <td>...</td>\n",
       "    </tr>\n",
       "    <tr>\n",
       "      <th>1995</th>\n",
       "      <td>6.281935</td>\n",
       "      <td>3.929789</td>\n",
       "      <td>9.061402</td>\n",
       "      <td>2.848242</td>\n",
       "    </tr>\n",
       "    <tr>\n",
       "      <th>1996</th>\n",
       "      <td>5.524570</td>\n",
       "      <td>4.164496</td>\n",
       "      <td>7.990678</td>\n",
       "      <td>3.997835</td>\n",
       "    </tr>\n",
       "    <tr>\n",
       "      <th>1997</th>\n",
       "      <td>11.074171</td>\n",
       "      <td>4.177889</td>\n",
       "      <td>8.618812</td>\n",
       "      <td>3.262737</td>\n",
       "    </tr>\n",
       "    <tr>\n",
       "      <th>1998</th>\n",
       "      <td>10.418788</td>\n",
       "      <td>4.045420</td>\n",
       "      <td>10.823393</td>\n",
       "      <td>2.283463</td>\n",
       "    </tr>\n",
       "    <tr>\n",
       "      <th>1999</th>\n",
       "      <td>10.697188</td>\n",
       "      <td>3.384861</td>\n",
       "      <td>9.119460</td>\n",
       "      <td>3.956479</td>\n",
       "    </tr>\n",
       "  </tbody>\n",
       "</table>\n",
       "<p>2000 rows × 4 columns</p>\n",
       "</div>"
      ],
      "text/plain": [
       "            hhb      hbo2         ca        na\n",
       "0      5.972959  3.834299   9.528891  2.990808\n",
       "1     10.984644  4.309384   8.331228  3.351722\n",
       "2      8.616593  4.248438   8.278458  2.828924\n",
       "3      5.414251  3.343987   7.075004  3.712949\n",
       "4     12.216601  4.416126  10.077333  3.378476\n",
       "...         ...       ...        ...       ...\n",
       "1995   6.281935  3.929789   9.061402  2.848242\n",
       "1996   5.524570  4.164496   7.990678  3.997835\n",
       "1997  11.074171  4.177889   8.618812  3.262737\n",
       "1998  10.418788  4.045420  10.823393  2.283463\n",
       "1999  10.697188  3.384861   9.119460  3.956479\n",
       "\n",
       "[2000 rows x 4 columns]"
      ]
     },
     "execution_count": 47,
     "metadata": {},
     "output_type": "execute_result"
    }
   ],
   "source": [
    "# test\n",
    "y_preds = list()\n",
    "#y_tests.append(list(range(10000, 20000)))\n",
    "for label in y_test.columns:\n",
    "    #print(label)\n",
    "    y_pred_tmp = models[label].predict(x_test_selected[label])\n",
    "    mse = mean_squared_error(y_test[label], y_pred_tmp)\n",
    "    print(label, mse)\n",
    "    y_preds.append(y_pred_tmp)\n",
    "y_pred = pd.DataFrame(y_preds, list(y_test.columns)).T\n",
    "y_pred"
   ]
  },
  {
   "cell_type": "code",
   "execution_count": null,
   "metadata": {},
   "outputs": [],
   "source": []
  },
  {
   "cell_type": "code",
   "execution_count": 49,
   "metadata": {
    "scrolled": true
   },
   "outputs": [
    {
     "name": "stdout",
     "output_type": "stream",
     "text": [
      "hhb\n",
      "hbo2\n",
      "ca\n",
      "na\n"
     ]
    },
    {
     "data": {
      "text/html": [
       "<div>\n",
       "<style scoped>\n",
       "    .dataframe tbody tr th:only-of-type {\n",
       "        vertical-align: middle;\n",
       "    }\n",
       "\n",
       "    .dataframe tbody tr th {\n",
       "        vertical-align: top;\n",
       "    }\n",
       "\n",
       "    .dataframe thead th {\n",
       "        text-align: right;\n",
       "    }\n",
       "</style>\n",
       "<table border=\"1\" class=\"dataframe\">\n",
       "  <thead>\n",
       "    <tr style=\"text-align: right;\">\n",
       "      <th></th>\n",
       "      <th>id</th>\n",
       "      <th>hhb</th>\n",
       "      <th>hbo2</th>\n",
       "      <th>ca</th>\n",
       "      <th>na</th>\n",
       "    </tr>\n",
       "  </thead>\n",
       "  <tbody>\n",
       "    <tr>\n",
       "      <th>0</th>\n",
       "      <td>10000</td>\n",
       "      <td>9.439839</td>\n",
       "      <td>4.366731</td>\n",
       "      <td>7.980803</td>\n",
       "      <td>3.152349</td>\n",
       "    </tr>\n",
       "    <tr>\n",
       "      <th>1</th>\n",
       "      <td>10001</td>\n",
       "      <td>6.329487</td>\n",
       "      <td>3.250927</td>\n",
       "      <td>9.111394</td>\n",
       "      <td>2.900349</td>\n",
       "    </tr>\n",
       "    <tr>\n",
       "      <th>2</th>\n",
       "      <td>10002</td>\n",
       "      <td>10.030647</td>\n",
       "      <td>4.494941</td>\n",
       "      <td>10.692593</td>\n",
       "      <td>3.272859</td>\n",
       "    </tr>\n",
       "    <tr>\n",
       "      <th>3</th>\n",
       "      <td>10003</td>\n",
       "      <td>8.150309</td>\n",
       "      <td>4.257397</td>\n",
       "      <td>9.605204</td>\n",
       "      <td>3.892442</td>\n",
       "    </tr>\n",
       "    <tr>\n",
       "      <th>4</th>\n",
       "      <td>10004</td>\n",
       "      <td>6.498278</td>\n",
       "      <td>3.361029</td>\n",
       "      <td>9.591717</td>\n",
       "      <td>3.353034</td>\n",
       "    </tr>\n",
       "    <tr>\n",
       "      <th>...</th>\n",
       "      <td>...</td>\n",
       "      <td>...</td>\n",
       "      <td>...</td>\n",
       "      <td>...</td>\n",
       "      <td>...</td>\n",
       "    </tr>\n",
       "    <tr>\n",
       "      <th>9995</th>\n",
       "      <td>19995</td>\n",
       "      <td>5.058342</td>\n",
       "      <td>4.075692</td>\n",
       "      <td>9.712283</td>\n",
       "      <td>2.951928</td>\n",
       "    </tr>\n",
       "    <tr>\n",
       "      <th>9996</th>\n",
       "      <td>19996</td>\n",
       "      <td>10.169432</td>\n",
       "      <td>3.579365</td>\n",
       "      <td>7.449697</td>\n",
       "      <td>3.090296</td>\n",
       "    </tr>\n",
       "    <tr>\n",
       "      <th>9997</th>\n",
       "      <td>19997</td>\n",
       "      <td>7.423639</td>\n",
       "      <td>4.328638</td>\n",
       "      <td>8.003338</td>\n",
       "      <td>3.724912</td>\n",
       "    </tr>\n",
       "    <tr>\n",
       "      <th>9998</th>\n",
       "      <td>19998</td>\n",
       "      <td>12.065932</td>\n",
       "      <td>4.104074</td>\n",
       "      <td>10.736788</td>\n",
       "      <td>2.755213</td>\n",
       "    </tr>\n",
       "    <tr>\n",
       "      <th>9999</th>\n",
       "      <td>19999</td>\n",
       "      <td>4.722887</td>\n",
       "      <td>4.402027</td>\n",
       "      <td>10.558479</td>\n",
       "      <td>2.595092</td>\n",
       "    </tr>\n",
       "  </tbody>\n",
       "</table>\n",
       "<p>10000 rows × 5 columns</p>\n",
       "</div>"
      ],
      "text/plain": [
       "         id        hhb      hbo2         ca        na\n",
       "0     10000   9.439839  4.366731   7.980803  3.152349\n",
       "1     10001   6.329487  3.250927   9.111394  2.900349\n",
       "2     10002  10.030647  4.494941  10.692593  3.272859\n",
       "3     10003   8.150309  4.257397   9.605204  3.892442\n",
       "4     10004   6.498278  3.361029   9.591717  3.353034\n",
       "...     ...        ...       ...        ...       ...\n",
       "9995  19995   5.058342  4.075692   9.712283  2.951928\n",
       "9996  19996  10.169432  3.579365   7.449697  3.090296\n",
       "9997  19997   7.423639  4.328638   8.003338  3.724912\n",
       "9998  19998  12.065932  4.104074  10.736788  2.755213\n",
       "9999  19999   4.722887  4.402027  10.558479  2.595092\n",
       "\n",
       "[10000 rows x 5 columns]"
      ]
     },
     "execution_count": 49,
     "metadata": {},
     "output_type": "execute_result"
    }
   ],
   "source": [
    "# submit\n",
    "y_submits = list()\n",
    "y_submits.append(list(range(10000, 20000)))\n",
    "for label in y_train.columns:\n",
    "    print(label)\n",
    "    result = models[label].predict(x_submit_selected[label])\n",
    "    y_submits.append(result)\n",
    "y_submit = pd.DataFrame(y_submits, index=['id']+list(y_train_sample.columns)).T\n",
    "y_submit = y_submit.astype({'id': int})\n",
    "y_submit"
   ]
  },
  {
   "cell_type": "code",
   "execution_count": null,
   "metadata": {},
   "outputs": [],
   "source": []
  },
  {
   "cell_type": "code",
   "execution_count": null,
   "metadata": {},
   "outputs": [],
   "source": []
  },
  {
   "cell_type": "code",
   "execution_count": null,
   "metadata": {},
   "outputs": [],
   "source": []
  },
  {
   "cell_type": "raw",
   "metadata": {},
   "source": [
    "#결과 출력\n",
    "for col in models:\n",
    "    print(col)\n",
    "    preds = []\n",
    "    for model in models[col]:\n",
    "        #preds.append(model.predict(xgb.DMatrix(test_data.loc[:, 'rho':])))\n",
    "        preds.append(model.predict(xgb.DMatrix(test_data.loc[:, '650_src':])))\n",
    "    pred = np.mean(preds, axis=0)\n",
    "\n",
    "    sample_data[col] = pred"
   ]
  },
  {
   "cell_type": "raw",
   "metadata": {},
   "source": [
    "sample_data.head()"
   ]
  },
  {
   "cell_type": "code",
   "execution_count": 51,
   "metadata": {},
   "outputs": [],
   "source": [
    "#Save Excel \n",
    "#sample_data.to_csv('Dacon_Yeonghwan_20200621_1.csv', index=False)\n",
    "y_submit.to_csv('Dacon_Yeonghwan_20200621_2.csv', index=False)"
   ]
  },
  {
   "cell_type": "code",
   "execution_count": null,
   "metadata": {},
   "outputs": [],
   "source": []
  }
 ],
 "metadata": {
  "kernelspec": {
   "display_name": "Python 3",
   "language": "python",
   "name": "python3"
  },
  "language_info": {
   "codemirror_mode": {
    "name": "ipython",
    "version": 3
   },
   "file_extension": ".py",
   "mimetype": "text/x-python",
   "name": "python",
   "nbconvert_exporter": "python",
   "pygments_lexer": "ipython3",
   "version": "3.6.10"
  }
 },
 "nbformat": 4,
 "nbformat_minor": 4
}
